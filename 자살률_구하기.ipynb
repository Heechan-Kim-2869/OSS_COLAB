{
  "nbformat": 4,
  "nbformat_minor": 0,
  "metadata": {
    "colab": {
      "provenance": [],
      "toc_visible": true,
      "authorship_tag": "ABX9TyMO+tnMjwhGxXOgQhRhK/B7",
      "include_colab_link": true
    },
    "kernelspec": {
      "name": "python3",
      "display_name": "Python 3"
    },
    "language_info": {
      "name": "python"
    }
  },
  "cells": [
    {
      "cell_type": "markdown",
      "metadata": {
        "id": "view-in-github",
        "colab_type": "text"
      },
      "source": [
        "<a href=\"https://colab.research.google.com/github/Heechan-Kim-2869/OSS_COLAB/blob/main/%EC%9E%90%EC%82%B4%EB%A5%A0_%EA%B5%AC%ED%95%98%EA%B8%B0.ipynb\" target=\"_parent\"><img src=\"https://colab.research.google.com/assets/colab-badge.svg\" alt=\"Open In Colab\"/></a>"
      ]
    },
    {
      "cell_type": "markdown",
      "source": [
        "# 해당 년도의 평균 자살률과 나이대별 평균 자살률 구하기\n",
        "\n",
        "## 데이터 선택\n",
        "데이터는 미국 정부에서 운영하는 오픈 데이터 [사이트](https://data.gov/)를 이용함.\n",
        "\n",
        "데이터 중, 미국에서 일어난 자살을 성별, 인종, 히스패닉 여부, 나이에 따라 정리된 [데이터](https://catalog.data.gov/dataset/death-rates-for-suicide-by-sex-race-hispanic-origin-and-age-united-states-020c1)를 발견하였고, 이 데이터를 이용하여 과제를 수행함.\n",
        "\n",
        "**Death rates for suicide, by sex, race, Hispanic origin, and age: United States**\n",
        "\n",
        "\n",
        "## 데이터 분석\n",
        "\n",
        "Gemini를 이용하여 데이터에서 어떤 분석을 기대할 수 있을지를 의뢰함. 데이터에서 성별과 인종 등의 나이를 제외한 데이터들은 종종 표기되지 않은 경우가 있어, 완벽하게 분석할 수 없다는 사실을 알게됨.\n",
        "\n",
        "## 코드 만들기\n",
        "\n",
        "다음은 생성형 AI를 이용해 연도와 나이대에 따른 자살률을 얻기 위해 입력한 값임.\n",
        "\n",
        "*/content/Death_rates_for_suicide__by_sex__race__Hispanic_origin__and_age__United_States.csv*\n",
        "\n",
        "*연도를 입력하면 해당 년도의 자살률을 나이대별로 출력하는 코드를 짤거야. 1950~2018 사이의 연도를 입력하게 해줘. 연도를 입력하면 데이터에서 \"ESTIMATE\" column을 조사해서 해당 연도의 평균을 구해줘. 평균치는 반올림한 정수로 나타내줘. 또한 해당 년도의 데이터 중, 나이를 나타내는 데이터가 있다면 따로 수집해서 나이대별로 10살씩 다시 \"ESTIMATE\" column을 평균을 구해서 출력해줘. 이 평균치는 소숫점 한 자릿수의 실수로 출력해줘.*\n",
        "\n",
        "## 코드 실행 후 입력\n",
        "\n",
        "코드 실행 시 데이터세트의 연도의 범위를 설정하기 위해 이를 생성형 AI에게 주문했으며, 실행 시 \"*Please enter a year between 1950 and 2018.*\" 이라는 문구가 출력됨. 이에 원하는 연도를 입력하면 실행됨.\n",
        "\n",
        "## 코드 결과\n",
        "\n",
        "코드의 결과는 해당 연도의 자살률과 나이대별의 자살률의 평균값을 구해서 출력하며, 출력 결과는 다음과 같음.\n",
        "\n",
        "\n",
        "*  예시, '1987'을 입력.\n",
        "\n",
        "  Enter a year between 1950 and 2018: 1987\n",
        "\n",
        "  The average suicide death rate in 1987 is: 16\n",
        "\n",
        "  Average death rate for age group All ages: 10.9\n",
        "\n",
        "  Average death rate for age group 10-14 years: 1.5\n",
        "\n",
        "  Average death rate for age group 15-24 years: 11.0\n",
        "\n",
        "  Average death rate for age group 15-19 years: 10.1\n",
        "\n",
        "  Average death rate for age group 20-24 years: 14.9\n",
        "\n",
        "  Average death rate for age group 25-44 years: 13.6\n",
        "\n",
        "  Average death rate for age group 25-34 years: 15.5\n",
        "\n",
        "  Average death rate for age group 35-44 years: 15.1\n",
        "\n",
        "  Average death rate for age group 45-64 years: 13.7\n",
        "\n",
        "  Average death rate for age group 45-54 years: 16.2\n",
        "\n",
        "  Average death rate for age group 55-64 years: 17.2\n",
        "\n",
        "  Average death rate for age group 65 years and over: 22.3\n",
        "\n",
        "  Average death rate for age group 65-74 years: 23.9\n",
        "\n",
        "  Average death rate for age group 75-84 years: 34.3\n",
        "\n",
        "  Average death rate for age group 85 years and over: 41.7\n",
        "\n",
        "## 결론\n",
        "\n",
        "코드가 정상적으로 작동하며, 요청한 대로 해당 연도의 자살률은 정수로 나타내며 나이대별 사망률은 소숫점 한자리의 실수로 나타냄."
      ],
      "metadata": {
        "id": "_aI8EJhwPXPI"
      }
    },
    {
      "cell_type": "code",
      "source": [
        "# prompt: /content/Death_rates_for_suicide__by_sex__race__Hispanic_origin__and_age__United_States.csv\n",
        "# 연도를 입력하면 해당 년도의 자살률을 나이대별로 출력하는 코드를 짤거야. 1950~2018 사이의 연도를 입력하게 해줘. 연도를 입력하면 데이터에서 \"ESTIMATE\" column을 조사해서 해당 연도의 평균을 구해줘. 평균치는 반올림한 정수로 나타내줘. 또한 해당 년도의 데이터 중, 나이를 나타내는 데이터가 있다면 따로 수집해서 나이대별로 10살씩 다시 \"ESTIMATE\" column을 평균을 구해서 출력해줘. 이 평균치는 소숫점 한 자릿수의 실수로 출력해줘.\n",
        "\n",
        "import pandas as pd\n",
        "\n",
        "def analyze_suicide_rates(year):\n",
        "    df = pd.read_csv('/content/Death_rates_for_suicide__by_sex__race__Hispanic_origin__and_age__United_States.csv')\n",
        "\n",
        "    if not 1950 <= year <= 2018:\n",
        "        print(\"Please enter a year between 1950 and 2018.\")\n",
        "        return\n",
        "\n",
        "    # Calculate the overall average death rate for the given year\n",
        "    yearly_data = df[df['YEAR'] == year]\n",
        "    average_death_rate = round(yearly_data['ESTIMATE'].mean())\n",
        "    print(f\"The average suicide death rate in {year} is: {average_death_rate}\")\n",
        "\n",
        "    # Analyze age-specific death rates\n",
        "    if 'AGE' in df.columns:  #Check if the 'AGE' column exists\n",
        "        age_groups = yearly_data['AGE'].unique()\n",
        "        for age_group in age_groups:\n",
        "            age_specific_data = yearly_data[yearly_data['AGE'] == age_group]\n",
        "            avg_rate = age_specific_data[\"ESTIMATE\"].mean()\n",
        "            print(f\"Average death rate for age group {age_group}: {avg_rate:.1f}\")\n",
        "    else:\n",
        "        print(\"Age-specific data not available in the dataset.\")\n",
        "\n",
        "# Get user input for the year\n",
        "year_input = int(input(\"Enter a year between 1950 and 2018: \"))\n",
        "analyze_suicide_rates(year_input)\n"
      ],
      "metadata": {
        "colab": {
          "base_uri": "https://localhost:8080/"
        },
        "id": "aQWm9eg0UBhS",
        "outputId": "75a0c30b-89bd-4c72-f954-b5df97b8fa0d"
      },
      "execution_count": null,
      "outputs": [
        {
          "output_type": "stream",
          "name": "stdout",
          "text": [
            "Enter a year between 1950 and 2018: 1987\n",
            "The average suicide death rate in 1987 is: 16\n",
            "Average death rate for age group All ages: 10.9\n",
            "Average death rate for age group 10-14 years: 1.5\n",
            "Average death rate for age group 15-24 years: 11.0\n",
            "Average death rate for age group 15-19 years: 10.1\n",
            "Average death rate for age group 20-24 years: 14.9\n",
            "Average death rate for age group 25-44 years: 13.6\n",
            "Average death rate for age group 25-34 years: 15.5\n",
            "Average death rate for age group 35-44 years: 15.1\n",
            "Average death rate for age group 45-64 years: 13.7\n",
            "Average death rate for age group 45-54 years: 16.2\n",
            "Average death rate for age group 55-64 years: 17.2\n",
            "Average death rate for age group 65 years and over: 22.3\n",
            "Average death rate for age group 65-74 years: 23.9\n",
            "Average death rate for age group 75-84 years: 34.3\n",
            "Average death rate for age group 85 years and over: 41.7\n"
          ]
        }
      ]
    }
  ]
}